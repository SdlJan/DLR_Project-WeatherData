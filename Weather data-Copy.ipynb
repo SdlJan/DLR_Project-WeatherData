{
 "cells": [
  {
   "cell_type": "code",
   "execution_count": 2,
   "metadata": {},
   "outputs": [],
   "source": [
    "import pandas as pd\n",
    "from zipfile import ZipFile\n",
    "import matplotlib.pyplot as plt\n",
    "import os"
   ]
  },
  {
   "cell_type": "code",
   "execution_count": 10,
   "metadata": {
    "scrolled": true
   },
   "outputs": [],
   "source": [
    "path = 'klarchiv_00003_daily_his'\n",
    "#ZipFile.extract(path, )"
   ]
  },
  {
   "cell_type": "code",
   "execution_count": 4,
   "metadata": {},
   "outputs": [],
   "source": [
    "#df = pd.read_csv('Data/TitanicTrain.csv')"
   ]
  },
  {
   "cell_type": "code",
   "execution_count": 11,
   "metadata": {
    "scrolled": true
   },
   "outputs": [],
   "source": [
    "# import os\n",
    "\n",
    "# with ZipFile('Data/klarchiv_00003_daily_his.zip') as z:\n",
    "#     with open('Data/', 'wb') as f:\n",
    "#         f.write(z.read('/produkt_klima_tag_18910101_20110331_00003.txt'))\n",
    "\n",
    "#file = 'Weather_DataSet/klarchiv_00003_daily_his.zip'\n",
    " \n",
    "# opening the zip file in READ mode \n",
    "#with ZipFile(file, 'r') as zip: \n",
    "    # printing all the contents of the zip file \n",
    "#    zip.printdir()\n",
    "  \n",
    "    # extracting all the files\n",
    "#    print('Extracting all the files now...')\n",
    "#    zip.extractall('Data/Unzipped/')\n",
    "#    print('Done!')\n"
   ]
  },
  {
   "cell_type": "code",
   "execution_count": 17,
   "metadata": {},
   "outputs": [
    {
     "data": {
      "text/html": [
       "<div>\n",
       "<style scoped>\n",
       "    .dataframe tbody tr th:only-of-type {\n",
       "        vertical-align: middle;\n",
       "    }\n",
       "\n",
       "    .dataframe tbody tr th {\n",
       "        vertical-align: top;\n",
       "    }\n",
       "\n",
       "    .dataframe thead th {\n",
       "        text-align: right;\n",
       "    }\n",
       "</style>\n",
       "<table border=\"1\" class=\"dataframe\">\n",
       "  <thead>\n",
       "    <tr style=\"text-align: right;\">\n",
       "      <th></th>\n",
       "      <th>STATIONS_ID</th>\n",
       "      <th>MESS_DATUM</th>\n",
       "      <th>QN_3</th>\n",
       "      <th>FX</th>\n",
       "      <th>FM</th>\n",
       "      <th>QN_4</th>\n",
       "      <th>RSK</th>\n",
       "      <th>RSKF</th>\n",
       "      <th>SDK</th>\n",
       "      <th>SHK_TAG</th>\n",
       "      <th>NM</th>\n",
       "      <th>VPM</th>\n",
       "      <th>PM</th>\n",
       "      <th>TMK</th>\n",
       "      <th>UPM</th>\n",
       "      <th>TXK</th>\n",
       "      <th>TNK</th>\n",
       "      <th>TGK</th>\n",
       "      <th>eor</th>\n",
       "    </tr>\n",
       "  </thead>\n",
       "  <tbody>\n",
       "    <tr>\n",
       "      <th>0</th>\n",
       "      <td>3</td>\n",
       "      <td>18910101</td>\n",
       "      <td>-999</td>\n",
       "      <td>-999.0</td>\n",
       "      <td>-999.0</td>\n",
       "      <td>5</td>\n",
       "      <td>0.0</td>\n",
       "      <td>0</td>\n",
       "      <td>-999.0</td>\n",
       "      <td>-999</td>\n",
       "      <td>0.0</td>\n",
       "      <td>4.3</td>\n",
       "      <td>-999.0</td>\n",
       "      <td>-3.6</td>\n",
       "      <td>88.0</td>\n",
       "      <td>0.5</td>\n",
       "      <td>-5.9</td>\n",
       "      <td>-999.0</td>\n",
       "      <td>eor</td>\n",
       "    </tr>\n",
       "    <tr>\n",
       "      <th>1</th>\n",
       "      <td>3</td>\n",
       "      <td>18910102</td>\n",
       "      <td>-999</td>\n",
       "      <td>-999.0</td>\n",
       "      <td>-999.0</td>\n",
       "      <td>5</td>\n",
       "      <td>0.0</td>\n",
       "      <td>0</td>\n",
       "      <td>-999.0</td>\n",
       "      <td>-999</td>\n",
       "      <td>2.7</td>\n",
       "      <td>4.1</td>\n",
       "      <td>-999.0</td>\n",
       "      <td>-2.8</td>\n",
       "      <td>84.0</td>\n",
       "      <td>0.0</td>\n",
       "      <td>-5.8</td>\n",
       "      <td>-999.0</td>\n",
       "      <td>eor</td>\n",
       "    </tr>\n",
       "    <tr>\n",
       "      <th>2</th>\n",
       "      <td>3</td>\n",
       "      <td>18910103</td>\n",
       "      <td>-999</td>\n",
       "      <td>-999.0</td>\n",
       "      <td>-999.0</td>\n",
       "      <td>5</td>\n",
       "      <td>2.5</td>\n",
       "      <td>1</td>\n",
       "      <td>-999.0</td>\n",
       "      <td>-999</td>\n",
       "      <td>3.7</td>\n",
       "      <td>3.9</td>\n",
       "      <td>-999.0</td>\n",
       "      <td>-0.2</td>\n",
       "      <td>69.0</td>\n",
       "      <td>2.1</td>\n",
       "      <td>-6.2</td>\n",
       "      <td>-999.0</td>\n",
       "      <td>eor</td>\n",
       "    </tr>\n",
       "  </tbody>\n",
       "</table>\n",
       "</div>"
      ],
      "text/plain": [
       "   STATIONS_ID  MESS_DATUM  QN_3     FX     FM  QN_4   RSK  RSKF    SDK  \\\n",
       "0            3    18910101  -999 -999.0 -999.0     5   0.0     0 -999.0   \n",
       "1            3    18910102  -999 -999.0 -999.0     5   0.0     0 -999.0   \n",
       "2            3    18910103  -999 -999.0 -999.0     5   2.5     1 -999.0   \n",
       "\n",
       "   SHK_TAG    NM   VPM     PM   TMK   UPM   TXK   TNK    TGK  eor  \n",
       "0     -999   0.0   4.3 -999.0  -3.6  88.0   0.5  -5.9 -999.0  eor  \n",
       "1     -999   2.7   4.1 -999.0  -2.8  84.0   0.0  -5.8 -999.0  eor  \n",
       "2     -999   3.7   3.9 -999.0  -0.2  69.0   2.1  -6.2 -999.0  eor  "
      ]
     },
     "execution_count": 17,
     "metadata": {},
     "output_type": "execute_result"
    }
   ],
   "source": [
    "data = pd.read_csv('Weather_DataSet/klarchiv_00003_daily_his/produkt_klima_tag_18910101_20110331_00003.txt', sep=';')\n",
    "data.head(3)"
   ]
  },
  {
   "cell_type": "code",
   "execution_count": 19,
   "metadata": {
    "scrolled": true
   },
   "outputs": [
    {
     "data": {
      "text/html": [
       "<div>\n",
       "<style scoped>\n",
       "    .dataframe tbody tr th:only-of-type {\n",
       "        vertical-align: middle;\n",
       "    }\n",
       "\n",
       "    .dataframe tbody tr th {\n",
       "        vertical-align: top;\n",
       "    }\n",
       "\n",
       "    .dataframe thead th {\n",
       "        text-align: right;\n",
       "    }\n",
       "</style>\n",
       "<table border=\"1\" class=\"dataframe\">\n",
       "  <thead>\n",
       "    <tr style=\"text-align: right;\">\n",
       "      <th></th>\n",
       "    </tr>\n",
       "  </thead>\n",
       "  <tbody>\n",
       "  </tbody>\n",
       "</table>\n",
       "</div>"
      ],
      "text/plain": [
       "Empty DataFrame\n",
       "Columns: []\n",
       "Index: []"
      ]
     },
     "execution_count": 19,
     "metadata": {},
     "output_type": "execute_result"
    }
   ],
   "source": [
    "#data['  FM'].unique()\n",
    "\n",
    "# data['  FM'].value_counts().plot.bar()\n",
    "# plt.show()\n",
    "\n",
    "data_all = pd.DataFrame()\n",
    "\n",
    "#Initialize path\n",
    "path = 'Weather_DataSet/klarchiv_01078_daily_his'\n",
    "directory = os.fsencode(path)\n",
    "\n",
    "path2 ='Weather_DataSet/'\n",
    "directory2= os.fsencode(path2)\n",
    "\n",
    "for dir in os.listdir(directory2):\n",
    "    for file in os.listdir(directory):\n",
    "         filename = os.fsdecode(file)\n",
    "         if filename.startswith(\"produkt_klima_tag\"): \n",
    "            filepath = path + '/' + filename \n",
    "            data = pd.read_csv(filepath, sep=';')\n",
    "            data = data[(data['MESS_DATUM']>=20160101)&(data['MESS_DATUM']<=20171231)]\n",
    "            data_all.append(data)\n",
    "            #print(data)\n",
    "         else:\n",
    "             pass\n",
    "\n",
    "data_all.head()\n",
    "\n",
    "# data_small = data[(data['MESS_DATUM']>=20100101)&(data['MESS_DATUM']<=20110101)]\n",
    "# data_small.head()"
   ]
  },
  {
   "cell_type": "code",
   "execution_count": null,
   "metadata": {},
   "outputs": [],
   "source": [
    "import os\n",
    "rootdir = 'Weather_DataSet'\n",
    "\n",
    "for subdir, dirs, files in os.walk(rootdir):\n",
    "    for file in files:\n",
    "         if filename.startswith(\"produkt_klima_tag\"): \n",
    "            #filepath = path + '/' + filename \n",
    "            data = pd.read_csv(os.path.join(subdir, file), sep=';', encoding='ISO-8859-1')\n",
    "            data = data[(data['MESS_DATUM']>=20160101)&(data['MESS_DATUM']<=20171231)]\n",
    "            #data_all.append(data)\n",
    "            #print(data)\n",
    "#            print(os.path.join(subdir, file)).replace(\"\\\",\"/\")"
   ]
  },
  {
   "cell_type": "code",
   "execution_count": null,
   "metadata": {},
   "outputs": [],
   "source": [
    "a = 'hello'\n",
    "b = 'world'\n",
    "c = a +b\n",
    "c"
   ]
  },
  {
   "cell_type": "code",
   "execution_count": null,
   "metadata": {
    "scrolled": true
   },
   "outputs": [],
   "source": [
    "data = pd.read_csv('Data/Unzipped/Metadaten_Stationsname_00003.txt', sep=';')\n",
    "data.head(20)"
   ]
  },
  {
   "cell_type": "code",
   "execution_count": null,
   "metadata": {},
   "outputs": [],
   "source": [
    "data = pd.read_csv('Data/Unzipped/Metadaten_Parameter_klima_tag_00003.txt', sep=';', encoding='ISO-8859-1')\n",
    "data.head(20)\n",
    "meta = data.drop_duplicates('Parameter')\n",
    "meta.head(30)"
   ]
  },
  {
   "cell_type": "code",
   "execution_count": null,
   "metadata": {},
   "outputs": [],
   "source": [
    "data = pd.read_csv('Data/Unzipped/Metadaten_Geographie_00003.txt', sep=';')\n",
    "data.head(20)"
   ]
  }
 ],
 "metadata": {
  "kernelspec": {
   "display_name": "Python 3",
   "language": "python",
   "name": "python3"
  },
  "language_info": {
   "codemirror_mode": {
    "name": "ipython",
    "version": 3
   },
   "file_extension": ".py",
   "mimetype": "text/x-python",
   "name": "python",
   "nbconvert_exporter": "python",
   "pygments_lexer": "ipython3",
   "version": "3.7.0"
  }
 },
 "nbformat": 4,
 "nbformat_minor": 2
}

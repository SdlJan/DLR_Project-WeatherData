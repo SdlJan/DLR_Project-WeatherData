{
 "cells": [
  {
   "cell_type": "code",
   "execution_count": 2,
   "metadata": {},
   "outputs": [],
   "source": [
    "import pandas as pd\n",
    "from zipfile import ZipFile\n",
    "import matplotlib.pyplot as plt\n",
    "import os"
   ]
  },
  {
   "cell_type": "code",
   "execution_count": 3,
   "metadata": {
    "scrolled": true
   },
   "outputs": [],
   "source": [
    "path = '\\2. Semester\\DLR\\Data\\klarchiv_00003_daily_his.zip'\n",
    "#ZipFile.extract(path, )"
   ]
  },
  {
   "cell_type": "code",
   "execution_count": 4,
   "metadata": {},
   "outputs": [],
   "source": [
    "#df = pd.read_csv('Data/TitanicTrain.csv')"
   ]
  },
  {
   "cell_type": "code",
   "execution_count": 12,
   "metadata": {
    "scrolled": true
   },
   "outputs": [
    {
     "ename": "FileNotFoundError",
     "evalue": "[Errno 2] No such file or directory: './Weather_DataSet/klarchiv_00003_daily_his.zip'",
     "output_type": "error",
     "traceback": [
      "\u001b[1;31m---------------------------------------------------------------------------\u001b[0m",
      "\u001b[1;31mFileNotFoundError\u001b[0m                         Traceback (most recent call last)",
      "\u001b[1;32m<ipython-input-12-91dd71fa190b>\u001b[0m in \u001b[0;36m<module>\u001b[1;34m\u001b[0m\n\u001b[0;32m      8\u001b[0m \u001b[1;33m\u001b[0m\u001b[0m\n\u001b[0;32m      9\u001b[0m \u001b[1;31m# opening the zip file in READ mode\u001b[0m\u001b[1;33m\u001b[0m\u001b[1;33m\u001b[0m\u001b[1;33m\u001b[0m\u001b[0m\n\u001b[1;32m---> 10\u001b[1;33m \u001b[1;32mwith\u001b[0m \u001b[0mZipFile\u001b[0m\u001b[1;33m(\u001b[0m\u001b[0mfile\u001b[0m\u001b[1;33m,\u001b[0m \u001b[1;34m'r'\u001b[0m\u001b[1;33m)\u001b[0m \u001b[1;32mas\u001b[0m \u001b[0mzip\u001b[0m\u001b[1;33m:\u001b[0m\u001b[1;33m\u001b[0m\u001b[1;33m\u001b[0m\u001b[0m\n\u001b[0m\u001b[0;32m     11\u001b[0m     \u001b[1;31m# printing all the contents of the zip file\u001b[0m\u001b[1;33m\u001b[0m\u001b[1;33m\u001b[0m\u001b[1;33m\u001b[0m\u001b[0m\n\u001b[0;32m     12\u001b[0m     \u001b[0mzip\u001b[0m\u001b[1;33m.\u001b[0m\u001b[0mprintdir\u001b[0m\u001b[1;33m(\u001b[0m\u001b[1;33m)\u001b[0m\u001b[1;33m\u001b[0m\u001b[1;33m\u001b[0m\u001b[0m\n",
      "\u001b[1;32mC:\\ProgramData\\Anaconda3\\lib\\zipfile.py\u001b[0m in \u001b[0;36m__init__\u001b[1;34m(self, file, mode, compression, allowZip64, compresslevel)\u001b[0m\n\u001b[0;32m   1202\u001b[0m             \u001b[1;32mwhile\u001b[0m \u001b[1;32mTrue\u001b[0m\u001b[1;33m:\u001b[0m\u001b[1;33m\u001b[0m\u001b[1;33m\u001b[0m\u001b[0m\n\u001b[0;32m   1203\u001b[0m                 \u001b[1;32mtry\u001b[0m\u001b[1;33m:\u001b[0m\u001b[1;33m\u001b[0m\u001b[1;33m\u001b[0m\u001b[0m\n\u001b[1;32m-> 1204\u001b[1;33m                     \u001b[0mself\u001b[0m\u001b[1;33m.\u001b[0m\u001b[0mfp\u001b[0m \u001b[1;33m=\u001b[0m \u001b[0mio\u001b[0m\u001b[1;33m.\u001b[0m\u001b[0mopen\u001b[0m\u001b[1;33m(\u001b[0m\u001b[0mfile\u001b[0m\u001b[1;33m,\u001b[0m \u001b[0mfilemode\u001b[0m\u001b[1;33m)\u001b[0m\u001b[1;33m\u001b[0m\u001b[1;33m\u001b[0m\u001b[0m\n\u001b[0m\u001b[0;32m   1205\u001b[0m                 \u001b[1;32mexcept\u001b[0m \u001b[0mOSError\u001b[0m\u001b[1;33m:\u001b[0m\u001b[1;33m\u001b[0m\u001b[1;33m\u001b[0m\u001b[0m\n\u001b[0;32m   1206\u001b[0m                     \u001b[1;32mif\u001b[0m \u001b[0mfilemode\u001b[0m \u001b[1;32min\u001b[0m \u001b[0mmodeDict\u001b[0m\u001b[1;33m:\u001b[0m\u001b[1;33m\u001b[0m\u001b[1;33m\u001b[0m\u001b[0m\n",
      "\u001b[1;31mFileNotFoundError\u001b[0m: [Errno 2] No such file or directory: './Weather_DataSet/klarchiv_00003_daily_his.zip'"
     ]
    }
   ],
   "source": [
    "# import os\n",
    "\n",
    "# with ZipFile('Data/klarchiv_00003_daily_his.zip') as z:\n",
    "#     with open('Data/', 'wb') as f:\n",
    "#         f.write(z.read('/produkt_klima_tag_18910101_20110331_00003.txt'))\n",
    "\n",
    "file = './Weather_DataSet/klarchiv_00003_daily_his.zip'\n",
    " \n",
    "# opening the zip file in READ mode \n",
    "with ZipFile(file, 'r') as zip: \n",
    "    # printing all the contents of the zip file \n",
    "    zip.printdir()\n",
    "  \n",
    "    # extracting all the files\n",
    "    print('Extracting all the files now...')\n",
    "    zip.extractall('Data/Unzipped/')\n",
    "    print('Done!')\n"
   ]
  },
  {
   "cell_type": "code",
   "execution_count": null,
   "metadata": {
    "scrolled": true
   },
   "outputs": [],
   "source": [
    "data = pd.read_csv('Data/Unzipped/produkt_klima_tag_18910101_20110331_00003.txt', sep=';')\n",
    "data.head(20)\n",
    "\n",
    "#data['  FM'].unique()\n",
    "\n",
    "# data['  FM'].value_counts().plot.bar()\n",
    "# plt.show()\n",
    "\n",
    "data_all = pd.DataFrame()\n",
    "\n",
    "#Initialize path\n",
    "path = 'Weather_data/klarchiv_01078_daily_his'\n",
    "directory = os.fsencode(path)\n",
    "\n",
    "path2 ='Weather_data/'\n",
    "directory2= os.fsencode(path2)\n",
    "\n",
    "for dir in os.listdir(directory2):\n",
    "    for file in os.listdir(directory):\n",
    "         filename = os.fsdecode(file)\n",
    "         if filename.startswith(\"produkt_klima_tag\"): \n",
    "            filepath = path + '/' + filename \n",
    "            data = pd.read_csv(filepath, sep=';')\n",
    "            data = data[(data['MESS_DATUM']>=20160101)&(data['MESS_DATUM']<=20171231)]\n",
    "            data_all.append(data)\n",
    "            #print(data)\n",
    "         else:\n",
    "             pass\n",
    "\n",
    "data_all.head()\n",
    "\n",
    "# data_small = data[(data['MESS_DATUM']>=20100101)&(data['MESS_DATUM']<=20110101)]\n",
    "# data_small.head()"
   ]
  },
  {
   "cell_type": "code",
   "execution_count": null,
   "metadata": {},
   "outputs": [],
   "source": [
    "import os\n",
    "rootdir = 'Weather_data'\n",
    "\n",
    "for subdir, dirs, files in os.walk(rootdir):\n",
    "    for file in files:\n",
    "         if filename.startswith(\"produkt_klima_tag\"): \n",
    "            #filepath = path + '/' + filename \n",
    "            data = pd.read_csv(os.path.join(subdir, file), sep=';', encoding='ISO-8859-1')\n",
    "            data = data[(data['MESS_DATUM']>=20160101)&(data['MESS_DATUM']<=20171231)]\n",
    "            #data_all.append(data)\n",
    "            #print(data)\n",
    "#            print(os.path.join(subdir, file)).replace(\"\\\",\"/\")"
   ]
  },
  {
   "cell_type": "code",
   "execution_count": null,
   "metadata": {},
   "outputs": [],
   "source": [
    "a = 'hello'\n",
    "b = 'world'\n",
    "c = a +b\n",
    "c"
   ]
  },
  {
   "cell_type": "code",
   "execution_count": null,
   "metadata": {
    "scrolled": true
   },
   "outputs": [],
   "source": [
    "data = pd.read_csv('Data/Unzipped/Metadaten_Stationsname_00003.txt', sep=';')\n",
    "data.head(20)"
   ]
  },
  {
   "cell_type": "code",
   "execution_count": null,
   "metadata": {},
   "outputs": [],
   "source": [
    "data = pd.read_csv('Data/Unzipped/Metadaten_Parameter_klima_tag_00003.txt', sep=';', encoding='ISO-8859-1')\n",
    "data.head(20)\n",
    "meta = data.drop_duplicates('Parameter')\n",
    "meta.head(30)"
   ]
  },
  {
   "cell_type": "code",
   "execution_count": null,
   "metadata": {},
   "outputs": [],
   "source": [
    "data = pd.read_csv('Data/Unzipped/Metadaten_Geographie_00003.txt', sep=';')\n",
    "data.head(20)"
   ]
  }
 ],
 "metadata": {
  "kernelspec": {
   "display_name": "Python 3",
   "language": "python",
   "name": "python3"
  },
  "language_info": {
   "codemirror_mode": {
    "name": "ipython",
    "version": 3
   },
   "file_extension": ".py",
   "mimetype": "text/x-python",
   "name": "python",
   "nbconvert_exporter": "python",
   "pygments_lexer": "ipython3",
   "version": "3.7.1"
  }
 },
 "nbformat": 4,
 "nbformat_minor": 2
}
